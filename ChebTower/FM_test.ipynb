{
 "cells": [
  {
   "cell_type": "code",
   "execution_count": 13,
   "metadata": {},
   "outputs": [],
   "source": [
    "from pennylane import numpy as np\n",
    "import pennylane as qml\n",
    "import matplotlib.pyplot as plt\n",
    "import torch\n",
    "\n",
    "from feature_map import *"
   ]
  },
  {
   "cell_type": "code",
   "execution_count": 14,
   "metadata": {},
   "outputs": [
    {
     "name": "stdout",
     "output_type": "stream",
     "text": [
      "[0.8944597  0.85095286 0.7681981  0.6542957  0.5203955  0.37960446\n",
      " 0.24570423 0.13180195 0.04904703 0.00554024]\n"
     ]
    }
   ],
   "source": [
    "def generate_chebyshev_grid(n, a=0, b=0.9, requires_grad=True):\n",
    "    k = torch.arange(n)\n",
    "    chebyshev_nodes = torch.cos(torch.pi * (2*k + 1) / (2*n))  #standard Chebyshev nodes in [-1,1]\n",
    "    scaled_nodes = ((chebyshev_nodes + 1) / 2) * (b - a) + a  #rescale to [a, b]\n",
    "    \n",
    "    return scaled_nodes.requires_grad_(requires_grad=requires_grad)\n",
    "\n",
    "N_POINTS = 10\n",
    "x = generate_chebyshev_grid(N_POINTS, requires_grad=False).detach().numpy()\n",
    "print(x)"
   ]
  },
  {
   "cell_type": "code",
   "execution_count": 15,
   "metadata": {},
   "outputs": [],
   "source": [
    "#x = np.linspace(0, 0.9, 10)\n",
    "#print(x)"
   ]
  },
  {
   "cell_type": "markdown",
   "metadata": {},
   "source": [
    "### f(x)"
   ]
  },
  {
   "cell_type": "code",
   "execution_count": 16,
   "metadata": {},
   "outputs": [],
   "source": [
    "num_qubits = 6\n",
    "\n",
    "def total_magnetization(num_qubits):\n",
    "    return sum(qml.PauliZ(i) for i in range(num_qubits))\n",
    "def create_circuit(x, num_qubits, label):\n",
    "\n",
    "    U(x, num_qubits, label)\n",
    "    qml.Barrier()\n",
    "    #HEA(theta, num_qubits, d)\n",
    "    cost_op = total_magnetization(num_qubits) \n",
    "   \n",
    "    return qml.expval(cost_op)"
   ]
  },
  {
   "cell_type": "code",
   "execution_count": 17,
   "metadata": {},
   "outputs": [
    {
     "name": "stdout",
     "output_type": "stream",
     "text": [
      "-0.9830138962408163\n",
      "0: ──RY(1.57)──||─┤ ╭<𝓗>\n",
      "1: ──RY(3.13)──||─┤ ├<𝓗>\n",
      "2: ──RY(4.70)──||─┤ ├<𝓗>\n",
      "3: ──RY(6.26)──||─┤ ├<𝓗>\n",
      "4: ──RY(7.83)──||─┤ ├<𝓗>\n",
      "5: ──RY(9.39)──||─┤ ╰<𝓗>\n"
     ]
    }
   ],
   "source": [
    "label = 0\n",
    "point = x[9]\n",
    "\n",
    "dev = qml.device('default.qubit', wires=list(range(num_qubits)))\n",
    "circuit = qml.QNode(create_circuit, dev)\n",
    "result = circuit(point, num_qubits, label)\n",
    "\n",
    "print(result)\n",
    "print(qml.draw(circuit)(point, num_qubits, label))"
   ]
  },
  {
   "cell_type": "markdown",
   "metadata": {},
   "source": [
    "### df(x)"
   ]
  },
  {
   "cell_type": "code",
   "execution_count": 5,
   "metadata": {},
   "outputs": [
    {
     "name": "stdout",
     "output_type": "stream",
     "text": [
      "0: ──RY(1.57)──┤  \n",
      "1: ──RY(3.14)──┤  \n",
      "2: ──RY(4.71)──┤  \n",
      "3: ──RY(6.28)──┤  \n",
      "4: ──RY(7.85)──┤  \n",
      "5: ──RY(20.42)─┤  \n"
     ]
    }
   ],
   "source": [
    "label = 6\n",
    "\n",
    "dev = qml.device('default.qubit', wires=list(range(num_qubits)))\n",
    "circuit = qml.QNode(U, dev)\n",
    "\n",
    "print(qml.draw(circuit)(point, num_qubits, label)) "
   ]
  },
  {
   "cell_type": "code",
   "execution_count": 6,
   "metadata": {},
   "outputs": [
    {
     "name": "stdout",
     "output_type": "stream",
     "text": [
      "0: ──RY(1.57)─┤  \n",
      "1: ──RY(3.14)─┤  \n",
      "2: ──RY(4.71)─┤  \n",
      "3: ──RY(6.28)─┤  \n",
      "4: ──RY(7.85)─┤  \n",
      "5: ──RY(9.42)─┤  \n"
     ]
    }
   ],
   "source": [
    "label = 7\n",
    "\n",
    "dev = qml.device('default.qubit', wires=list(range(num_qubits)))\n",
    "circuit = qml.QNode(U, dev)\n",
    "\n",
    "print(qml.draw(circuit)(point, num_qubits, label)) "
   ]
  },
  {
   "cell_type": "code",
   "execution_count": null,
   "metadata": {},
   "outputs": [],
   "source": []
  }
 ],
 "metadata": {
  "kernelspec": {
   "display_name": "Python 3",
   "language": "python",
   "name": "python3"
  },
  "language_info": {
   "codemirror_mode": {
    "name": "ipython",
    "version": 3
   },
   "file_extension": ".py",
   "mimetype": "text/x-python",
   "name": "python",
   "nbconvert_exporter": "python",
   "pygments_lexer": "ipython3",
   "version": "3.9.13"
  }
 },
 "nbformat": 4,
 "nbformat_minor": 2
}
