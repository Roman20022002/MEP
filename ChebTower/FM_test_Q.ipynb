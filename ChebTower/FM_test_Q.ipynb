{
 "cells": [
  {
   "cell_type": "code",
   "execution_count": 8,
   "metadata": {},
   "outputs": [],
   "source": [
    "import matplotlib.pyplot as plt\n",
    "\n",
    "from qadence import *\n",
    "import torch\n",
    "from torch.autograd import grad"
   ]
  },
  {
   "cell_type": "code",
   "execution_count": 9,
   "metadata": {},
   "outputs": [
    {
     "name": "stdout",
     "output_type": "stream",
     "text": [
      "tensor([0.8945, 0.8510, 0.7682, 0.6543, 0.5204, 0.3796, 0.2457, 0.1318, 0.0490,\n",
      "        0.0055], requires_grad=True)\n"
     ]
    }
   ],
   "source": [
    "def generate_chebyshev_grid(n, a=0, b=0.9, requires_grad=True):\n",
    "    k = torch.arange(n)\n",
    "    chebyshev_nodes = torch.cos(torch.pi * (2*k + 1) / (2*n))  #standard Chebyshev nodes in [-1,1]\n",
    "    scaled_nodes = ((chebyshev_nodes + 1) / 2) * (b - a) + a  #rescale to [a, b]\n",
    "    \n",
    "    return scaled_nodes.requires_grad_(requires_grad=requires_grad)\n",
    "\n",
    "N_POINTS = 10\n",
    "x = generate_chebyshev_grid(N_POINTS)\n",
    "print(x)\n",
    "cp = torch.reshape(x, (N_POINTS,1))"
   ]
  },
  {
   "cell_type": "code",
   "execution_count": null,
   "metadata": {},
   "outputs": [
    {
     "name": "stdout",
     "output_type": "stream",
     "text": [
      "tensor([[0.0000],\n",
      "        [0.1000],\n",
      "        [0.2000],\n",
      "        [0.3000],\n",
      "        [0.4000],\n",
      "        [0.5000],\n",
      "        [0.6000],\n",
      "        [0.7000],\n",
      "        [0.8000],\n",
      "        [0.9000]])\n"
     ]
    }
   ],
   "source": [
    "#N_POINTS = 10\n",
    "#cp = torch.linspace(0.0, 0.9, N_POINTS, dtype=torch.float64)\n",
    "#cp = torch.reshape(cp, (N_POINTS,1))\n",
    "#print(cp)"
   ]
  },
  {
   "cell_type": "markdown",
   "metadata": {},
   "source": [
    "### f(x)"
   ]
  },
  {
   "cell_type": "code",
   "execution_count": 10,
   "metadata": {},
   "outputs": [
    {
     "name": "stdout",
     "output_type": "stream",
     "text": [
      "tensor([[-0.9830]], grad_fn=<CatBackward0>)\n",
      "QNN(\n",
      "  (_circuit): ConvertedCircuit(\n",
      "    (native): QuantumCircuit(\n",
      "      (operations): ModuleList(\n",
      "        (0): Sequence(\n",
      "          (operations): ModuleList(\n",
      "            (0): RY(target: (0,), param: 1_0*acos(x))\n",
      "            (1): RY(target: (1,), param: 2_0*acos(x))\n",
      "            (2): RY(target: (2,), param: 3_0*acos(x))\n",
      "            (3): RY(target: (3,), param: 4_0*acos(x))\n",
      "            (4): RY(target: (4,), param: 5_0*acos(x))\n",
      "            (5): RY(target: (5,), param: 6_0*acos(x))\n",
      "          )\n",
      "        )\n",
      "      )\n",
      "    )\n",
      "  )\n",
      "  (_params): ParameterDict(  (fix_1): Parameter containing: [torch.DoubleTensor of size 1])\n",
      ")\n"
     ]
    }
   ],
   "source": [
    "N_QUBITS = 6\n",
    "\n",
    "chebT = feature_map(n_qubits=N_QUBITS, param=\"x\", op=RY, fm_type = BasisSet.CHEBYSHEV, reupload_scaling = ReuploadScaling.TOWER)\n",
    "fm = chebT\n",
    "\n",
    "obs = total_magnetization(N_QUBITS)\n",
    "circuit = QuantumCircuit(N_QUBITS, fm)\n",
    "model = QNN(circuit=circuit, observable=obs, inputs=[\"x\"])\n",
    "\n",
    "print(model(cp[9]))\n",
    "print(model)"
   ]
  },
  {
   "cell_type": "code",
   "execution_count": null,
   "metadata": {},
   "outputs": [],
   "source": []
  }
 ],
 "metadata": {
  "kernelspec": {
   "display_name": "Python 3",
   "language": "python",
   "name": "python3"
  },
  "language_info": {
   "codemirror_mode": {
    "name": "ipython",
    "version": 3
   },
   "file_extension": ".py",
   "mimetype": "text/x-python",
   "name": "python",
   "nbconvert_exporter": "python",
   "pygments_lexer": "ipython3",
   "version": "3.9.13"
  }
 },
 "nbformat": 4,
 "nbformat_minor": 2
}
