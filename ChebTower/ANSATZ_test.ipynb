{
 "cells": [
  {
   "cell_type": "code",
   "execution_count": 1,
   "metadata": {},
   "outputs": [],
   "source": [
    "from pennylane import numpy as np\n",
    "import pennylane as qml\n",
    "import matplotlib.pyplot as plt\n",
    "import torch\n",
    "\n",
    "from feature_map import *\n",
    "from ansatz import *"
   ]
  },
  {
   "cell_type": "code",
   "execution_count": 2,
   "metadata": {},
   "outputs": [
    {
     "name": "stdout",
     "output_type": "stream",
     "text": [
      "[0.8944597  0.85095286 0.7681981  0.6542957  0.5203955  0.37960446\n",
      " 0.24570423 0.13180195 0.04904703 0.00554024]\n"
     ]
    }
   ],
   "source": [
    "def generate_chebyshev_grid(n, a=0, b=0.9, requires_grad=True):\n",
    "    k = torch.arange(n)\n",
    "    chebyshev_nodes = torch.cos(torch.pi * (2*k + 1) / (2*n))  #standard Chebyshev nodes in [-1,1]\n",
    "    scaled_nodes = ((chebyshev_nodes + 1) / 2) * (b - a) + a  #rescale to [a, b]\n",
    "    \n",
    "    return scaled_nodes.requires_grad_(requires_grad=requires_grad)\n",
    "\n",
    "N_POINTS = 10\n",
    "x = generate_chebyshev_grid(N_POINTS, requires_grad=False).detach().numpy()\n",
    "print(x)"
   ]
  },
  {
   "cell_type": "code",
   "execution_count": 3,
   "metadata": {},
   "outputs": [
    {
     "name": "stdout",
     "output_type": "stream",
     "text": [
      "[0.05815449 0.9552357  0.84251973 0.62340308 0.03134017 0.25185522\n",
      " 0.06291017 0.92875258 0.87050104 0.437279   0.04036647 0.23340819\n",
      " 0.12358607 0.08354337 0.37753296 0.07473488 0.93190879 0.2256651\n",
      " 0.05258016 0.13264067 0.61243659 0.68343022 0.15212583 0.3175678\n",
      " 0.5261719  0.1570535  0.08810978 0.31223868 0.26504491 0.61440828\n",
      " 0.47678475 0.37536703 0.70118189 0.30905878 0.13043349 0.59777135]\n"
     ]
    }
   ],
   "source": [
    "#x = np.linspace(0, 0.9, 20)\n",
    "#print(x)\n",
    "#np.random.seed(42)\n",
    "#theta_init = np.array(2*np.pi*np.random.random(num_qubits*d*3), requires_grad=True)\n",
    "qadence_init = [0.05815449, 0.9552357, 0.84251973, 0.62340308, 0.03134017, 0.25185522, 0.06291017, 0.92875258, 0.87050104, 0.437279, 0.04036647, 0.23340819, 0.12358607, 0.08354337, 0.37753296, 0.07473488, 0.93190879, 0.2256651, 0.05258016, 0.13264067, 0.61243659, 0.68343022, 0.15212583, 0.3175678, 0.5261719, 0.1570535, 0.08810978, 0.31223868, 0.26504491, 0.61440828, 0.47678475, 0.37536703, 0.70118189, 0.30905878, 0.13043349, 0.59777135]\n",
    "\n",
    "theta_init = np.array(qadence_init, requires_grad=True)\n",
    "print(theta_init)"
   ]
  },
  {
   "cell_type": "markdown",
   "metadata": {},
   "source": [
    "### f(x)"
   ]
  },
  {
   "cell_type": "code",
   "execution_count": 4,
   "metadata": {},
   "outputs": [],
   "source": [
    "num_qubits = 6\n",
    "d = 2\n",
    "\n",
    "def total_magnetization(num_qubits):\n",
    "    return sum(qml.PauliZ(i) for i in range(num_qubits))\n",
    "def create_circuit(x, num_qubits, d, theta, label):\n",
    "\n",
    "    U(x, num_qubits, label)\n",
    "    qml.Barrier()\n",
    "    HEA(theta, num_qubits, d)\n",
    "    cost_op = total_magnetization(num_qubits) \n",
    "   \n",
    "    return qml.expval(cost_op)"
   ]
  },
  {
   "cell_type": "code",
   "execution_count": 5,
   "metadata": {},
   "outputs": [
    {
     "name": "stdout",
     "output_type": "stream",
     "text": [
      "-0.5827048206133318\n",
      "0: ──RY(1.57)──||──RZ(0.06)──RX(0.96)──RZ(0.84)─╭●──RZ(0.62)──RX(0.03)──RZ(0.25)───────────╭●────┤\n",
      "1: ──RY(3.13)──||──RZ(0.06)──RX(0.93)──RZ(0.87)─╰X─╭●─────────RZ(0.44)──RX(0.04)──RZ(0.23)─╰X─╭●─┤\n",
      "2: ──RY(4.70)──||──RZ(0.12)──RX(0.08)──RZ(0.38)─╭●─╰X─────────RZ(0.07)──RX(0.93)──RZ(0.23)─╭●─╰X─┤\n",
      "3: ──RY(6.26)──||──RZ(0.05)──RX(0.13)──RZ(0.61)─╰X─╭●─────────RZ(0.68)──RX(0.15)──RZ(0.32)─╰X─╭●─┤\n",
      "4: ──RY(7.83)──||──RZ(0.53)──RX(0.16)──RZ(0.09)─╭●─╰X─────────RZ(0.31)──RX(0.27)──RZ(0.61)─╭●─╰X─┤\n",
      "5: ──RY(9.39)──||──RZ(0.48)──RX(0.38)──RZ(0.70)─╰X──RZ(0.31)──RX(0.13)──RZ(0.60)───────────╰X────┤\n",
      "\n",
      "  ╭<Z+Z+Z+Z+Z+Z>\n",
      "  ├<Z+Z+Z+Z+Z+Z>\n",
      "  ├<Z+Z+Z+Z+Z+Z>\n",
      "  ├<Z+Z+Z+Z+Z+Z>\n",
      "  ├<Z+Z+Z+Z+Z+Z>\n",
      "  ╰<Z+Z+Z+Z+Z+Z>\n"
     ]
    }
   ],
   "source": [
    "label = 0\n",
    "point = x[9]\n",
    "\n",
    "dev = qml.device('default.qubit', wires=list(range(num_qubits)))\n",
    "circuit = qml.QNode(create_circuit, dev)\n",
    "result = circuit(point, num_qubits, d, theta_init, label)\n",
    "\n",
    "print(result)\n",
    "print(qml.draw(circuit)(point, num_qubits, d, theta_init, label))"
   ]
  },
  {
   "cell_type": "code",
   "execution_count": null,
   "metadata": {},
   "outputs": [],
   "source": []
  }
 ],
 "metadata": {
  "kernelspec": {
   "display_name": "Python 3",
   "language": "python",
   "name": "python3"
  },
  "language_info": {
   "codemirror_mode": {
    "name": "ipython",
    "version": 3
   },
   "file_extension": ".py",
   "mimetype": "text/x-python",
   "name": "python",
   "nbconvert_exporter": "python",
   "pygments_lexer": "ipython3",
   "version": "3.9.13"
  }
 },
 "nbformat": 4,
 "nbformat_minor": 2
}
